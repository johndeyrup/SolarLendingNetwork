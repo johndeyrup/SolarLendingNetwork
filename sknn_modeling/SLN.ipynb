{
 "cells": [
  {
   "cell_type": "code",
   "execution_count": 240,
   "metadata": {
    "collapsed": false
   },
   "outputs": [],
   "source": [
    "import numpy as np\n",
    "import matplotlib\n",
    "import matplotlib.pyplot as plt\n",
    "%matplotlib inline\n",
    "\n",
    "import seaborn as sns\n",
    "sns.set_style(\"white\")\n",
    "\n",
    "import time\n",
    "import timeit\n",
    "\n",
    "import scipy.stats \n",
    "import pandas as pd\n",
    "import pymc as pm\n",
    "\n",
    "import re\n",
    "import sklearn\n",
    "import sklearn.neural_network\n",
    "import sknn\n",
    "from sknn import mlp\n",
    "from sklearn import datasets\n",
    "import requests\n",
    "import json\n",
    "\n",
    "from mpl_toolkits.basemap import Basemap"
   ]
  },
  {
   "cell_type": "code",
   "execution_count": 2,
   "metadata": {
    "collapsed": true
   },
   "outputs": [],
   "source": [
    "# feature scaling for large variables\n",
    "def normalize_data(df, var):\n",
    "    mu = np.mean(df[var])\n",
    "    sig = np.std(df[var])\n",
    "    df[var] = (df[var] - mu) / sig\n",
    "    return df"
   ]
  },
  {
   "cell_type": "code",
   "execution_count": 3,
   "metadata": {
    "collapsed": false
   },
   "outputs": [
    {
     "name": "stderr",
     "output_type": "stream",
     "text": [
      "//anaconda/lib/python2.7/site-packages/pandas/io/parsers.py:1170: DtypeWarning: Columns (6,14) have mixed types. Specify dtype option on import or set low_memory=False.\n",
      "  data = self._reader.read(nrows)\n"
     ]
    }
   ],
   "source": [
    "# import datasets\n",
    "\n",
    "# we use names as keys for idnetifying unique properties. these are cleaned up property names\n",
    "propertynames = pd.read_csv('/Users/kyu/Downloads/cleanName2.csv', header=None)\n",
    "\n",
    "# solar installation data for boston\n",
    "solar = pd.read_csv('./boston_data.csv')\n",
    "\n",
    "# property assessment data for boston\n",
    "propertyAssessment = pd.read_csv('/Users/kyu/Downloads/Property_Assessment_2014.csv')"
   ]
  },
  {
   "cell_type": "code",
   "execution_count": 4,
   "metadata": {
    "collapsed": false
   },
   "outputs": [],
   "source": [
    "# reset values for owner field with the cleaned up names\n",
    "propertyAssessment['OWNER'] = propertynames"
   ]
  },
  {
   "cell_type": "code",
   "execution_count": 6,
   "metadata": {
    "collapsed": false
   },
   "outputs": [],
   "source": [
    "# sizes of arrays\n",
    "n_houses = solar.shape[0]\n",
    "n_predictors = propertyAssessment.shape[1]"
   ]
  },
  {
   "cell_type": "code",
   "execution_count": 8,
   "metadata": {
    "collapsed": false
   },
   "outputs": [],
   "source": [
    "# remove industrial and commercial land use\n",
    "ind = (propertyAssessment['LU'].values != 'CD') & (propertyAssessment['LU'].values != 'CM') & \\\n",
    "(propertyAssessment['LU'].values != 'C') & \\\n",
    "(propertyAssessment['LU'].values != 'RC') & (propertyAssessment['LU'].values != 'CL') & \\\n",
    "(propertyAssessment['LU'].values != 'CP') & \\\n",
    "(propertyAssessment['LU'].values != 'I') & (propertyAssessment['LU'].values != 'CD') & \\\n",
    "(propertyAssessment['LU'].values != 'E') & \\\n",
    "(propertyAssessment['LU'].values != 'EA')\n",
    "\n",
    "propertyData = propertyAssessment[ind]\n",
    "\n",
    "# convert to numeric codes\n",
    "propertyData = propertyData[['OWNER', 'LU', 'NUM_FLOORS', 'AV_BLDG', 'YR_BUILT', 'R_AC', 'OWN_OCC', \\\n",
    "                             'R_TOTAL_RMS', 'GROSS_TAX', 'R_ROOF_TYP']]\n",
    "LU = ['R1', 'R2', 'R3', 'R4', 'A', 'RL', 'CD', 'CC', 'CM', 'C', 'RC', 'CL', 'CP', 'I', 'E', 'EA']\n",
    "\n",
    "# remove bad zipcodes\n",
    "#propertyData['ZIPCODE'] = propertyData['ZIPCODE'].values.astype(int)\n",
    "#ind = (propertyData['ZIPCODE'] < 3000) & (propertyData['ZIPCODE'] > 500)\n",
    "#propertyData = propertyData[ind]\n",
    "\n",
    "# normalize zipcode\n",
    "#meanzip = np.mean(propertyData['ZIPCODE'])\n",
    "#sigzip = np.std(propertyData['ZIPCODE'])\n",
    "#propertyData['ZIPCODE'] = (propertyData['ZIPCODE'] - meanzip) / sigzip\n",
    "\n",
    "# normalize av bldg\n",
    "propertyData = normalize_data(propertyData, 'AV_BLDG')\n",
    "propertyData = normalize_data(propertyData, 'YR_BUILT')\n",
    "\n",
    "# give numeric values for land use\n",
    "for i in xrange(0,16):\n",
    "    if LU[i] == 'R1':\n",
    "        propertyData['LU'].values[np.where(propertyData['LU'].values == LU[i])] = 1\n",
    "    else:\n",
    "        propertyData['LU'].values[np.where(propertyData['LU'].values == LU[i])] = -1\n"
   ]
  },
  {
   "cell_type": "code",
   "execution_count": 10,
   "metadata": {
    "collapsed": false
   },
   "outputs": [],
   "source": [
    "# filter out nan floors\n",
    "propertyData['NUM_FLOORS'] = propertyData['NUM_FLOORS'].values.astype(float)\n",
    "ind = np.where(propertyData['NUM_FLOORS'] > 100) \n",
    "propertyData['NUM_FLOORS'].values[ind] = 0\n",
    "ind = np.where(propertyData['NUM_FLOORS'] == 0)\n",
    "mu = np.mean(propertyData['NUM_FLOORS'])\n",
    "propertyData['NUM_FLOORS'].values[ind] = mu \n",
    "\n",
    "propertyData = normalize_data(propertyData, 'NUM_FLOORS')\n",
    "\n",
    "# code AC and OWNER OCCUPIED TO +/-1 \n",
    "propertyData['R_AC'].values[np.where((propertyData['R_AC'].values != 'C') & \n",
    "                                     (propertyData['R_AC'].values != 'D'))] = -1.0\n",
    "propertyData['R_AC'].values[np.where((propertyData['R_AC'].values == 'C') | \n",
    "                                     (propertyData['R_AC'].values == 'D'))] = 1.0\n",
    "propertyData['OWN_OCC'].values[np.where(propertyData['OWN_OCC'].values != 'Y')] = -1.0\n",
    "propertyData['OWN_OCC'].values[np.where(propertyData['OWN_OCC'].values == 'Y')] = 1.0\n",
    "\n",
    "ind = np.where(propertyData['GROSS_TAX'] > 50000)\n",
    "propertyData['GROSS_TAX'].values[ind] = 0\n",
    "propertyData = normalize_data(propertyData, 'GROSS_TAX')\n",
    "\n",
    "propertyData = normalize_data(propertyData, 'R_TOTAL_RMS')\n",
    "\n",
    "# roof type! \n",
    "propertyData['R_ROOF_TYP'].values[np.where((propertyData['R_ROOF_TYP'].values != 'F') & \n",
    "                                           (propertyData['R_ROOF_TYP'].values != 'G') &\n",
    "                                           (propertyData['R_ROOF_TYP'].values != 'H') & \n",
    "                                           (propertyData['R_ROOF_TYP'].values != 'M'))] = -1.0\n",
    "propertyData['R_ROOF_TYP'].values[np.where((propertyData['R_ROOF_TYP'].values == 'F') | \n",
    "                                           (propertyData['R_ROOF_TYP'].values == 'M'))] = 1.0\n",
    "propertyData['R_ROOF_TYP'].values[np.where((propertyData['R_ROOF_TYP'].values == 'G') | \n",
    "                                           (propertyData['R_ROOF_TYP'].values == 'H'))] = 0.0\n"
   ]
  },
  {
   "cell_type": "code",
   "execution_count": 11,
   "metadata": {
    "collapsed": false
   },
   "outputs": [],
   "source": [
    "# read solar names\n",
    "solarnames = pd.read_csv('/Users/kyu/Downloads/cleanName_solarNames.csv')\n",
    "solar['Generation Unit Name'] = solarnames"
   ]
  },
  {
   "cell_type": "code",
   "execution_count": 13,
   "metadata": {
    "collapsed": false
   },
   "outputs": [],
   "source": [
    "# create predictor variables \n",
    "X = np.zeros([468, 9])\n",
    "y = np.zeros(468)\n",
    "tot = 0\n",
    "for i in xrange(0, n_houses):\n",
    "    owner_name = solar['Generation Unit Name'].values[i]\n",
    "    ind = np.where(propertyData['OWNER'].values == owner_name)\n",
    "    if len(ind[0] > 0):\n",
    "        pred = propertyData[ind[0][0]:ind[0][0]+1].values\n",
    "        predictors = pred[0][1:10]\n",
    "        X[tot,:] = predictors\n",
    "        y[tot] = solar['Nameplate Capacity (kW)'].values[i]\n",
    "        tot += 1"
   ]
  },
  {
   "cell_type": "code",
   "execution_count": 15,
   "metadata": {
    "collapsed": false
   },
   "outputs": [],
   "source": [
    "# separate data into training and test sets\n",
    "boundary = 400\n",
    "X_train = np.copy(X[:boundary])\n",
    "X_train = X_train.astype(float)\n",
    "y_train = np.copy(y[:boundary])\n",
    "y_train = y_train.astype(float)\n",
    "X_test = np.copy(X[boundary:])\n",
    "X_test = X_test.astype(float)\n",
    "y_test = np.copy(y[boundary:])\n",
    "y_test = y_test.astype(float)"
   ]
  },
  {
   "cell_type": "code",
   "execution_count": 149,
   "metadata": {
    "collapsed": false
   },
   "outputs": [
    {
     "data": {
      "text/plain": [
       "Regressor(batch_size=1, callback=None, debug=False, dropout_rate=None,\n",
       "     f_stable=0.001,\n",
       "     hidden0=<sknn.nn.Layer `Rectifier`: units=8, name=u'hidden0', frozen=False>,\n",
       "     hidden1=<sknn.nn.Layer `Rectifier`: units=6, name=u'hidden1', frozen=False>,\n",
       "     hidden2=<sknn.nn.Layer `Linear`: units=4, name=u'hidden2', frozen=False>,\n",
       "     hidden3=<sknn.nn.Layer `Linear`: units=2, name=u'hidden3', frozen=False>,\n",
       "     layers=[<sknn.nn.Layer `Rectifier`: units=8, name=u'hidden0', frozen=False>, <sknn.nn.Layer `Rectifier`: units=6, name=u'hidden1', frozen=False>, <sknn.nn.Layer `Linear`: units=4, name=u'hidden2', frozen=False>, <sknn.nn.Layer `Linear`: units=2, name=u'hidden3', frozen=False>, <sknn.nn.Layer `Linear`: units=1, name=u'output', frozen=False>],\n",
       "     learning_momentum=0.9, learning_rate=0.01, learning_rule=u'adagrad',\n",
       "     loss_type=None, n_iter=20, n_stable=10,\n",
       "     output=<sknn.nn.Layer `Linear`: units=1, name=u'output', frozen=False>,\n",
       "     random_state=None, regularize=None, valid_set=None, valid_size=0.0,\n",
       "     verbose=None, warning=None, weight_decay=None, weights=None)"
      ]
     },
     "execution_count": 149,
     "metadata": {},
     "output_type": "execute_result"
    }
   ],
   "source": [
    "# run regression\n",
    "nn = mlp.Regressor(\n",
    "    layers=[\n",
    "        #mlp.Layer(\"Sigmoid\", units=400),\n",
    "        #mlp.Layer(\"Rectifier\", units=200),\n",
    "        #mlp.Layer(\"Rectifier\", units=100),\n",
    "        #mlp.Layer(\"Sigmoid\", units=50),\n",
    "        #mlp.Layer(\"Linear\", units=20),\n",
    "        mlp.Layer(\"Rectifier\", units=8),\n",
    "        mlp.Layer(\"Rectifier\", units=6),\n",
    "        mlp.Layer(\"Linear\", units=4),\n",
    "        mlp.Layer(\"Linear\", units=2),\n",
    "        mlp.Layer(\"Linear\")],\n",
    "    learning_rule=u'adagrad',\n",
    "    n_iter=20)\n",
    "nn.fit(X_train, y_train)"
   ]
  },
  {
   "cell_type": "code",
   "execution_count": 150,
   "metadata": {
    "collapsed": false
   },
   "outputs": [
    {
     "name": "stdout",
     "output_type": "stream",
     "text": [
      "1.61042557412\n",
      "0.210926728766\n",
      "6.76724476766\n",
      "3.8648567804\n",
      "68\n"
     ]
    }
   ],
   "source": [
    "y_predict = nn.predict(X_test)\n",
    "\n",
    "RMSE = np.sqrt(np.mean(np.square(y_predict-y_test)))\n",
    "print RMSE\n",
    "print RMSE / (np.max(y_test) - np.min(y_test))\n",
    "\n",
    "print np.max(y_predict)\n",
    "print np.min(y_predict)\n",
    "print len(y_predict)"
   ]
  },
  {
   "cell_type": "code",
   "execution_count": 268,
   "metadata": {
    "collapsed": false
   },
   "outputs": [
    {
     "data": {
      "image/png": "[encoded data removed]",
      "text/plain": [
       "<matplotlib.figure.Figure at 0x14809d290>"
      ]
     },
     "metadata": {},
     "output_type": "display_data"
    }
   ],
   "source": [
    "# plot histogram of test data results\n",
    "plt.hist(y_test, alpha=0.7, range=[0,10], bins=20, normed=True, label='Truth')\n",
    "plt.hist(y_predict, alpha=0.7, range=[0,10], bins=20, normed=True, label='Model')\n",
    "plt.legend()\n",
    "plt.xlabel('PV Capacity (kW)')\n",
    "plt.savefig('model_test.pdf')"
   ]
  },
  {
   "cell_type": "code",
   "execution_count": 153,
   "metadata": {
    "collapsed": false
   },
   "outputs": [
    {
     "data": {
      "text/plain": [
       "<matplotlib.collections.PathCollection at 0x13a5e8810>"
      ]
     },
     "execution_count": 153,
     "metadata": {},
     "output_type": "execute_result"
    },
    {
     "data": {
      "image/png": "[encoded data removed]",
      "text/plain": [
       "<matplotlib.figure.Figure at 0x13a49b3d0>"
      ]
     },
     "metadata": {},
     "output_type": "display_data"
    }
   ],
   "source": [
    "plt.scatter(y_test, y_predict)"
   ]
  },
  {
   "cell_type": "code",
   "execution_count": 198,
   "metadata": {
    "collapsed": false
   },
   "outputs": [
    {
     "name": "stderr",
     "output_type": "stream",
     "text": [
      "/anaconda/lib/python2.7/site-packages/ipykernel/__main__.py:4: SettingWithCopyWarning: \n",
      "A value is trying to be set on a copy of a slice from a DataFrame.\n",
      "Try using .loc[row_indexer,col_indexer] = value instead\n",
      "\n",
      "See the the caveats in the documentation: http://pandas.pydata.org/pandas-docs/stable/indexing.html#indexing-view-versus-copy\n",
      "/anaconda/lib/python2.7/site-packages/ipykernel/__main__.py:15: SettingWithCopyWarning: \n",
      "A value is trying to be set on a copy of a slice from a DataFrame.\n",
      "Try using .loc[row_indexer,col_indexer] = value instead\n",
      "\n",
      "See the the caveats in the documentation: http://pandas.pydata.org/pandas-docs/stable/indexing.html#indexing-view-versus-copy\n"
     ]
    }
   ],
   "source": [
    "# time to make predictions\n",
    "propertyPredict = propertyAssessment[['LU', 'NUM_FLOORS', 'AV_BLDG', 'YR_BUILT', 'R_AC', 'OWN_OCC', \\\n",
    "                             'R_TOTAL_RMS', 'GROSS_TAX', 'R_ROOF_TYP']]\n",
    "\n",
    "# normalize data\n",
    "propertyPredict = normalize_data(propertyPredict, 'AV_BLDG')\n",
    "propertyPredict = normalize_data(propertyPredict, 'YR_BUILT')\n",
    "\n",
    "for i in xrange(0,16):\n",
    "    if LU[i] == 'R1':\n",
    "        propertyPredict['LU'].values[np.where(propertyPredict['LU'].values == LU[i])] = 1.0\n",
    "    else:\n",
    "        propertyPredict['LU'].values[np.where(propertyPredict['LU'].values == LU[i])] = -1.0\n",
    "        \n",
    "# filter out nan floors\n",
    "propertyPredict['NUM_FLOORS'] = propertyPredict['NUM_FLOORS'].values.astype(float)\n",
    "ind = np.where(propertyPredict['NUM_FLOORS'] > 100) \n",
    "propertyPredict['NUM_FLOORS'].values[ind] = 0\n",
    "ind = np.where(propertyPredict['NUM_FLOORS'] == 0)\n",
    "mu = np.mean(propertyPredict['NUM_FLOORS'])\n",
    "propertyPredict['NUM_FLOORS'].values[ind] = mu \n",
    "\n",
    "propertyPredict = normalize_data(propertyPredict, 'NUM_FLOORS')\n",
    "\n",
    "# code AC and OWNER OCCUPIED TO +/-1 \n",
    "propertyPredict['R_AC'].values[np.where((propertyPredict['R_AC'].values != 'C') & \n",
    "                                     (propertyPredict['R_AC'].values != 'D'))] = -1.0\n",
    "propertyPredict['R_AC'].values[np.where((propertyPredict['R_AC'].values == 'C') | \n",
    "                                     (propertyPredict['R_AC'].values == 'D'))] = 1.0\n",
    "propertyPredict['OWN_OCC'].values[np.where(propertyPredict['OWN_OCC'].values != 'Y')] = -1.0\n",
    "propertyPredict['OWN_OCC'].values[np.where(propertyPredict['OWN_OCC'].values == 'Y')] = 1.0\n",
    "\n",
    "ind = np.where(propertyPredict['GROSS_TAX'] > 50000)\n",
    "propertyPredict['GROSS_TAX'].values[ind] = 0\n",
    "propertyPredict = normalize_data(propertyPredict, 'GROSS_TAX')\n",
    "\n",
    "propertyPredict = normalize_data(propertyPredict, 'R_TOTAL_RMS')\n",
    "\n",
    "propertyPredict['R_ROOF_TYP'].values[np.where((propertyPredict['R_ROOF_TYP'].values != 'F') & \n",
    "                                           (propertyPredict['R_ROOF_TYP'].values != 'G') &\n",
    "                                           (propertyPredict['R_ROOF_TYP'].values != 'H') & \n",
    "                                           (propertyPredict['R_ROOF_TYP'].values != 'M'))] = -1.0\n",
    "propertyPredict['R_ROOF_TYP'].values[np.where((propertyPredict['R_ROOF_TYP'].values == 'F') | \n",
    "                                           (propertyPredict['R_ROOF_TYP'].values == 'M'))] = 1.0\n",
    "propertyPredict['R_ROOF_TYP'].values[np.where((propertyPredict['R_ROOF_TYP'].values == 'G') | \n",
    "                                           (propertyPredict['R_ROOF_TYP'].values == 'H'))] = 0.0\n",
    "\n",
    "X_predict = propertyPredict.values"
   ]
  },
  {
   "cell_type": "code",
   "execution_count": 199,
   "metadata": {
    "collapsed": false
   },
   "outputs": [
    {
     "name": "stdout",
     "output_type": "stream",
     "text": [
      "-1\n"
     ]
    }
   ],
   "source": [
    "X_predict[:,0] = X_predict[:,0].astype(int)\n",
    "X_predict[np.where(X_predict[:,0] < -1.6), 0] = 0\n",
    "print np.min(X_predict[:,0])"
   ]
  },
  {
   "cell_type": "code",
   "execution_count": 210,
   "metadata": {
    "collapsed": false
   },
   "outputs": [
    {
     "name": "stdout",
     "output_type": "stream",
     "text": [
      "-1.0\n"
     ]
    }
   ],
   "source": [
    "X_predict[:,2] = X_predict[:,2].astype(float)\n",
    "X_predict[:,0] = X_predict[:,0].astype(int)\n",
    "print np.min(X_predict[:,8])"
   ]
  },
  {
   "cell_type": "code",
   "execution_count": 211,
   "metadata": {
    "collapsed": false
   },
   "outputs": [],
   "source": [
    "X_predict = X_predict.astype(float)\n",
    "X_predict[np.where(np.isnan(X_predict))] = 0"
   ]
  },
  {
   "cell_type": "code",
   "execution_count": 212,
   "metadata": {
    "collapsed": false
   },
   "outputs": [],
   "source": [
    "y_all = nn.predict(X_predict)"
   ]
  },
  {
   "cell_type": "code",
   "execution_count": 213,
   "metadata": {
    "collapsed": false
   },
   "outputs": [
    {
     "name": "stdout",
     "output_type": "stream",
     "text": [
      "3.66125366205e+18\n",
      "2.30536861343\n"
     ]
    }
   ],
   "source": [
    "print np.max(y_all)\n",
    "print np.min(y_all)"
   ]
  },
  {
   "cell_type": "code",
   "execution_count": 267,
   "metadata": {
    "collapsed": false,
    "scrolled": true
   },
   "outputs": [
    {
     "data": {
      "image/png": "[encoded data removed]",
      "text/plain": [
       "<matplotlib.figure.Figure at 0x1456ed610>"
      ]
     },
     "metadata": {},
     "output_type": "display_data"
    }
   ],
   "source": [
    "plt.hist(y_all, range=[0,10], bins=50, normed=True)\n",
    "plt.xlabel('Predicted capacity (kW)')\n",
    "plt.ylabel('Normalized frequency')\n",
    "plt.savefig('predicted_capacity.pdf')"
   ]
  },
  {
   "cell_type": "code",
   "execution_count": 215,
   "metadata": {
    "collapsed": false
   },
   "outputs": [],
   "source": [
    "predicted_boston = propertyAssessment\n",
    "predicted_boston['Prediction'] = y_all"
   ]
  },
  {
   "cell_type": "code",
   "execution_count": 221,
   "metadata": {
    "collapsed": false
   },
   "outputs": [
    {
     "data": {
      "text/plain": [
       "0         (42.340297000, -71.166757000)\n",
       "1         (42.340294000, -71.166405000)\n",
       "2         (42.340530000, -71.166340000)\n",
       "3         (42.340509000, -71.166674000)\n",
       "4         (42.340881000, -71.166627000)\n",
       "5         (42.340780000, -71.166340000)\n",
       "6         (42.340804000, -71.166338000)\n",
       "7         (42.340780000, -71.166340000)\n",
       "8         (42.340950000, -71.166350000)\n",
       "9         (42.341090000, -71.166340000)\n",
       "10        (42.341160000, -71.166340000)\n",
       "11        (42.341300000, -71.166310000)\n",
       "12        (42.341360000, -71.166310000)\n",
       "13        (42.341570000, -71.166250000)\n",
       "14        (42.341760000, -71.166290000)\n",
       "15        (42.341900000, -71.166720000)\n",
       "16        (42.341770000, -71.166740000)\n",
       "17        (42.341640000, -71.166760000)\n",
       "18        (42.341480000, -71.166730000)\n",
       "19        (42.341310000, -71.166740000)\n",
       "20        (42.341160000, -71.166760000)\n",
       "21        (42.341180000, -71.167250000)\n",
       "22        (42.341350000, -71.167230000)\n",
       "23        (42.341530000, -71.167210000)\n",
       "24        (42.341710000, -71.167200000)\n",
       "25        (42.341896000, -71.167152000)\n",
       "26        (42.341971000, -71.167603000)\n",
       "27        (42.342000000, -71.167810000)\n",
       "28        (42.341980000, -71.168100000)\n",
       "29        (42.345006000, -71.165199000)\n",
       "                      ...              \n",
       "164061    (42.379700000, -71.030620000)\n",
       "164062    (42.379700000, -71.030460000)\n",
       "164063    (42.379790000, -71.030520000)\n",
       "164064    (42.379880000, -71.030590000)\n",
       "164065    (42.379940000, -71.030620000)\n",
       "164066    (42.380108000, -71.030671000)\n",
       "164067    (42.380080000, -71.030750000)\n",
       "164068    (42.380050000, -71.030840000)\n",
       "164069    (42.380020000, -71.030910000)\n",
       "164070    (42.379873000, -71.030807000)\n",
       "164071    (42.379960000, -71.030990000)\n",
       "164072    (42.379920000, -71.031090000)\n",
       "164073    (42.379900000, -71.031160000)\n",
       "164074    (42.379870000, -71.031240000)\n",
       "164075    (42.379830000, -71.031320000)\n",
       "164076    (42.379780000, -71.031490000)\n",
       "164077    (42.379750000, -71.031570000)\n",
       "164078    (42.379720000, -71.031660000)\n",
       "164079    (42.379690000, -71.031740000)\n",
       "164080    (42.379650000, -71.031810000)\n",
       "164081    (42.379610000, -71.031900000)\n",
       "164082    (42.379590000, -71.031990000)\n",
       "164083    (42.379550000, -71.032070000)\n",
       "164084    (42.379520000, -71.032150000)\n",
       "164085    (42.379490000, -71.032230000)\n",
       "164086    (42.379510000, -71.032340000)\n",
       "164087    (42.379470000, -71.032400000)\n",
       "164088    (42.379450000, -71.032460000)\n",
       "164089    (42.379430000, -71.032540000)\n",
       "164090    (42.379400000, -71.032600000)\n",
       "Name: Location, dtype: object"
      ]
     },
     "execution_count": 221,
     "metadata": {},
     "output_type": "execute_result"
    }
   ],
   "source": [
    "# make map of predictions\n",
    "propertyAssessment['Location']"
   ]
  },
  {
   "cell_type": "code",
   "execution_count": 216,
   "metadata": {
    "collapsed": false
   },
   "outputs": [],
   "source": [
    "reduced_predictions = predicted_boston[['Parcel_ID', 'OWNER', 'Prediction']]\n",
    "reduced_predictions.to_json('predictions_fourth_attempt.json' )"
   ]
  },
  {
   "cell_type": "code",
   "execution_count": 230,
   "metadata": {
    "collapsed": false
   },
   "outputs": [
    {
     "data": {
      "text/plain": [
       "<Response [503]>"
      ]
     },
     "execution_count": 230,
     "metadata": {},
     "output_type": "execute_result"
    }
   ],
   "source": [
    "requests.post('https://obscure-ridge-64270.herokuapp.com/', data=json.dumps('./jsondump.json'))"
   ]
  },
  {
   "cell_type": "code",
   "execution_count": 219,
   "metadata": {
    "collapsed": false
   },
   "outputs": [
    {
     "data": {
      "text/plain": [
       "[Int64Index([     0,      1,      2,      3,      4,      5,      6,      7,\n",
       "                  8,      9, \n",
       "             ...\n",
       "             164081, 164082, 164083, 164084, 164085, 164086, 164087, 164088,\n",
       "             164089, 164090],\n",
       "            dtype='int64', length=164091),\n",
       " Index([u'Parcel_ID', u'OWNER', u'Prediction'], dtype='object')]"
      ]
     },
     "execution_count": 219,
     "metadata": {},
     "output_type": "execute_result"
    }
   ],
   "source": [
    "reduced_predictions.axes"
   ]
  },
  {
   "cell_type": "code",
   "execution_count": 786,
   "metadata": {
    "collapsed": false
   },
   "outputs": [],
   "source": [
    "test = predicted_boston[0:1]\n",
    "test.to_json('predictions_first_attempt.json')"
   ]
  },
  {
   "cell_type": "code",
   "execution_count": 276,
   "metadata": {
    "collapsed": false
   },
   "outputs": [
    {
     "data": {
      "text/plain": [
       "[<matplotlib.lines.Line2D at 0x158917990>]"
      ]
     },
     "execution_count": 276,
     "metadata": {},
     "output_type": "execute_result"
    },
    {
     "data": {
      "image/png": "[encoded data removed]",
      "text/plain": [
       "<matplotlib.figure.Figure at 0x14eab6110>"
      ]
     },
     "metadata": {},
     "output_type": "display_data"
    }
   ],
   "source": [
    "my_map = Basemap(projection='merc', lat_0 = 42.3601, lon_0 = -71.0589,\n",
    "    resolution = 'h', area_thresh = 0.1,\n",
    "    llcrnrlon=-71.1, llcrnrlat=42.4,\n",
    "    urcrnrlon=-71.0, urcrnrlat=42.5)\n",
    " \n",
    "my_map.drawcoastlines()\n",
    "my_map.drawcountries()\n",
    "my_map.drawcounties()\n",
    "my_map.fillcontinents(color = 'coral')\n",
    "my_map.drawmapboundary()\n",
    "\n",
    "lat = float(propertyAssessment.loc[164080]['Location'][1:13])\n",
    "lon = float(propertyAssessment.loc[164080]['Location'][15:26])\n",
    "x,y = my_map(lon, lat)\n",
    "my_map.plot(x, y, 'go', markersize=10)"
   ]
  },
  {
   "cell_type": "code",
   "execution_count": 229,
   "metadata": {
    "collapsed": true
   },
   "outputs": [],
   "source": [
    "# format for json \n",
    "my_json = open(\"predictions_fourth_attempt.json\").read()\n",
    "\n",
    "data = json.loads(my_json)\n",
    "cleaned_json = []\n",
    "\n",
    "for row in range(2500):\n",
    "    temp_json = {}\n",
    "    for item in data:\n",
    "        data_item = data[item][str(row)]\n",
    "        if item==\"OWNER\":\n",
    "            temp_json[item.decode('ascii')] = data[item][str(row)].decode('ascii')\n",
    "        else:\n",
    "            temp_json[item.decode('ascii')] = data[item][str(row)]\n",
    "    cleaned_json.append(temp_json)\n",
    "final_json = {}\n",
    "final_json[\"batch\"] = cleaned_json\n",
    "# headers = {'content-type': 'application/json'}\n",
    "# r= requests.post('https://obscure-ridge-64270.herokuapp.com/',headers=heas data = final_json)\n",
    "with open('jsondump.json', 'wb') as outfile:\n",
    "    json.dump(final_json, outfile)\n"
   ]
  },
  {
   "cell_type": "code",
   "execution_count": 235,
   "metadata": {
    "collapsed": false
   },
   "outputs": [
    {
     "data": {
      "text/plain": [
       "[Parameters(weights=array([[ 0.62145513, -0.07799507, -0.19412927, -0.29867785, -0.32677921,\n",
       "         0.16532208,  0.26891875, -0.50411045],\n",
       "       [ 0.47323847,  0.16637821, -0.00340439,  0.00991601, -0.46873681,\n",
       "        -0.23080954, -0.53048856, -0.06485983],\n",
       "       [ 0.28343591, -0.0668253 , -0.31936018, -0.22434416,  0.39091701,\n",
       "         0.13677752, -0.45819766, -0.31405239],\n",
       "       [ 0.37258532,  0.00666495,  0.35188361,  0.26439317,  0.09396052,\n",
       "         0.51407934, -0.42148173,  0.51174612],\n",
       "       [ 0.58271436,  0.30986546,  0.21279158,  0.27320917,  0.19521207,\n",
       "        -0.26699145, -0.16408647, -0.48599006],\n",
       "       [ 0.31742082, -0.12894558, -0.12872537,  0.36817632,  0.40317846,\n",
       "        -0.39416372,  0.16532936,  0.26042   ],\n",
       "       [ 0.59464775, -0.12284918, -0.30217465,  0.23519347,  0.51442713,\n",
       "        -0.44117533, -0.2502832 ,  0.12764431],\n",
       "       [-0.27381015,  0.29468493, -0.14402106, -0.39985048,  0.00604804,\n",
       "        -0.51396522, -0.20756378, -0.4701711 ],\n",
       "       [ 0.42874954, -0.38169613,  0.02435753, -0.1417738 , -0.04254562,\n",
       "         0.39394797, -0.49404097,  0.49901915]]), biases=array([ 0.16581783, -0.1780488 , -0.20812834, -0.20446459,  0.11107237,\n",
       "       -0.13343786,  0.28326365,  0.26896198]), layer=u'hidden0'),\n",
       " Parameters(weights=array([[ 0.77584622, -0.44136157,  0.05150759, -0.70818871, -0.41566624,\n",
       "        -0.14473728],\n",
       "       [-0.43287432,  0.4028005 , -0.54621105,  0.05930327,  0.2705915 ,\n",
       "         0.57656532],\n",
       "       [-0.26536617, -0.02455795,  0.07781007, -0.37478263, -0.10618207,\n",
       "         0.42024519],\n",
       "       [-0.10217678,  0.55043475,  0.43211898,  0.35486661, -0.22466074,\n",
       "        -0.3260832 ],\n",
       "       [ 0.55904003, -0.19021037, -0.4739351 ,  0.39925238,  0.159289  ,\n",
       "         0.56142016],\n",
       "       [-0.2589603 , -0.23951086, -0.52125036, -0.10481413,  0.15705829,\n",
       "         0.46973083],\n",
       "       [ 0.250574  , -0.17298064, -0.15685882, -0.57219283,  0.63935105,\n",
       "        -0.10175764],\n",
       "       [ 0.11903737, -0.34068338, -0.54299468, -0.35725111,  0.4925997 ,\n",
       "        -0.0337601 ]]), biases=array([ 0.37606895, -0.07587354,  0.00039612, -0.09015927,  0.34704737,\n",
       "       -0.04259304]), layer=u'hidden1'),\n",
       " Parameters(weights=array([[-0.71604414,  0.13092164, -0.37464721, -0.85841023],\n",
       "       [-0.09372119,  0.24583562, -0.55155412,  0.15441957],\n",
       "       [ 0.66585632,  0.02947081, -0.0925232 ,  0.19165935],\n",
       "       [-0.64378637,  0.59048242,  0.35194967,  0.52946079],\n",
       "       [-0.32855364, -0.29823768,  0.05587558, -0.30555256],\n",
       "       [ 0.04191639,  0.48906875, -0.67488693, -0.4310544 ]]), biases=array([-0.3523332 , -0.28539435,  0.04049176, -0.36310508]), layer=u'hidden2'),\n",
       " Parameters(weights=array([[-0.61970577,  0.21298554],\n",
       "       [-0.59342716, -0.20066926],\n",
       "       [-0.03318667,  0.09281293],\n",
       "       [ 0.08673762,  0.74165199]]), biases=array([ 0.29143946, -0.29489973]), layer=u'hidden3'),\n",
       " Parameters(weights=array([[ 1.17832044],\n",
       "       [-1.41196002]]), biases=array([ 0.28203896]), layer=u'output')]"
      ]
     },
     "execution_count": 235,
     "metadata": {},
     "output_type": "execute_result"
    }
   ],
   "source": [
    "nn.get_parameters()"
   ]
  },
  {
   "cell_type": "code",
   "execution_count": null,
   "metadata": {
    "collapsed": true
   },
   "outputs": [],
   "source": []
  }
 ],
 "metadata": {
  "kernelspec": {
   "display_name": "Python 2",
   "language": "python",
   "name": "python2"
  },
  "language_info": {
   "codemirror_mode": {
    "name": "ipython",
    "version": 2
   },
   "file_extension": ".py",
   "mimetype": "text/x-python",
   "name": "python",
   "nbconvert_exporter": "python",
   "pygments_lexer": "ipython2",
   "version": "2.7.11"
  }
 },
 "nbformat": 4,
 "nbformat_minor": 0
}
